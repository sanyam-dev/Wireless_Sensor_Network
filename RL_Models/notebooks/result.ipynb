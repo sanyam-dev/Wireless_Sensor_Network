{
 "cells": [
  {
   "cell_type": "markdown",
   "metadata": {},
   "source": [
    "### ACC, APL & Small Worldness"
   ]
  },
  {
   "cell_type": "code",
   "execution_count": null,
   "metadata": {},
   "outputs": [],
   "source": [
    "paths = [{\"marker\": 'o',\"label\": \"gsw\", \"path\": \"results/gsw-ppo/result/history0.txt\"},\n",
    "         {\"marker\":'^',\"label\": \"nsw\", \"path\":\"results/nsw-ppo/result/history0.txt\"}, \n",
    "         {\"marker\":'x',\"label\": \"ppo\", \"path\":\"results/ppo/result/history0.txt\"}]"
   ]
  },
  {
   "cell_type": "markdown",
   "metadata": {},
   "source": [
    "## Simulation Results"
   ]
  },
  {
   "cell_type": "code",
   "execution_count": null,
   "metadata": {},
   "outputs": [],
   "source": [
    "paths = [\n",
    "    {\n",
    "        \"marker\": 'o',\n",
    "    \t\"label\": \"gsw\", \n",
    "        \"ppath\": \"results/gsw-ppo/result/\",\n",
    "\t\t\"direct-cl\": \"direct/direct-cl-performance.npy\",\n",
    "\t\t\"direct-fl\": \"direct/direct-fl-performance.npy\",\n",
    "\t\t\"multihop-cl\": \"multihop/cl-performance.npy\",\n",
    "\t\t\"multihop-fl\": \"multihop/0-performance.npy\",\n",
    "\t\t\"leach\": \"\",\n",
    "\t\t\n",
    "        \n",
    "    },\n",
    "\t{\n",
    "        \"marker\":'^',\n",
    "        \"label\": \"nsw\", \n",
    "        \"ppath\":\"results/nsw-ppo/result/\",\n",
    "        \"direct-cl\": \"direct/direct-cl-performance.npy\",\n",
    "        \"direct-fl\": \"direct/direct-fl-performance.npy\",\n",
    "\t\t\"multihop-cl\": \"multihop/cl-performance.npy\",\n",
    "\t\t\"multihop-fl\": \"multihop/0-performance.npy\",\n",
    "\t\t\"leach\": \"\",\n",
    "\t\t\n",
    "\t\t\n",
    "    }, \n",
    "\t{\t\n",
    "        \"marker\":'x',\n",
    "        \"label\": \"ppo\", \n",
    "        \"ppath\":\"results/ppo/result/\",\n",
    "        \"direct-cl\": \"direct/direct-cl-performance.npy\",\n",
    "        \"direct-fl\": \"direct/direct-fl-performance.npy\",\n",
    "\t\t\"multihop-cl\": \"multihop/cl-performance.npy\",\n",
    "\t\t\"multihop-fl\": \"multihop/0-performance.npy\",\n",
    "\t\t\"leach\": \"\",\n",
    "\t\t\n",
    "\t\t\n",
    "    },\n",
    "\t{\t\n",
    "        \"marker\":'s',\n",
    "        \"label\": \"conventional\", \n",
    "        \"ppath\":\"results/conventional/result/\",\n",
    "\t\t\"direct-cl\": \"direct/direct-cl-performance.npy\",\n",
    "\t\t\"direct-fl\": \"direct/direct-fl-performance.npy\",\n",
    "\t\t\"multihop-cl\": \"multihop/cl-performance.npy\",\n",
    "\t\t\"multihop-fl\": \"multihop/fl-performance.npy\",\n",
    "\t\t\"leach\": \"\",\n",
    "\t\t\n",
    "    },\n",
    "]"
   ]
  },
  {
   "cell_type": "code",
   "execution_count": null,
   "metadata": {},
   "outputs": [],
   "source": [
    "from itertools import zip_longest"
   ]
  },
  {
   "cell_type": "markdown",
   "metadata": {},
   "source": [
    "### Latency"
   ]
  },
  {
   "cell_type": "markdown",
   "metadata": {},
   "source": [
    "For Centralised Learning"
   ]
  },
  {
   "cell_type": "markdown",
   "metadata": {},
   "source": [
    "### Energy"
   ]
  },
  {
   "cell_type": "markdown",
   "metadata": {},
   "source": [
    "Centralised Learning"
   ]
  },
  {
   "cell_type": "markdown",
   "metadata": {},
   "source": [
    "### Throughput"
   ]
  },
  {
   "cell_type": "markdown",
   "metadata": {},
   "source": [
    "Centralised Learning"
   ]
  },
  {
   "cell_type": "code",
   "execution_count": null,
   "metadata": {},
   "outputs": [],
   "source": [
    "from network import *\n",
    "net1 = network(50,50,10,0,0)\n",
    "net1.initialise_nodes(0.25,0)\n",
    "net1.set_parameters(2000, 8, 2000, 3*1e8, 5)\n",
    "net1.set_nxg()\n",
    "net1.show_graph()"
   ]
  },
  {
   "cell_type": "code",
   "execution_count": null,
   "metadata": {},
   "outputs": [],
   "source": [
    "net = net1\n",
    "e = 0\n",
    "for Node in net.node_list:\n",
    "\tNode.critical_energy = 0.0\n",
    "\te += Node.current_energy"
   ]
  },
  {
   "cell_type": "code",
   "execution_count": null,
   "metadata": {},
   "outputs": [],
   "source": [
    "net.packet_length = 1024\n",
    "sink = net.sink\n",
    "dead_node = set()\n",
    "k = net.packet_length\n",
    "rnds = 0"
   ]
  },
  {
   "cell_type": "code",
   "execution_count": null,
   "metadata": {},
   "outputs": [],
   "source": [
    "er = sink.energy_for_reception(k)\n",
    "n = net.number_of_nodes\n",
    "n_map = net.node_map\n",
    "net.calculate_latency()\n",
    "lm = net.latency_matrix\n",
    "dm = net.calculate_dist()\n",
    "energy_per_round = [e]\n",
    "latency_per_round = []\n",
    "throughput_per_round = []\n",
    "total_latency = 0"
   ]
  },
  {
   "cell_type": "code",
   "execution_count": null,
   "metadata": {},
   "outputs": [],
   "source": [
    "from networkx import NetworkXError\n",
    "while len(dead_node) < 0.9*n:\n",
    "\tmessage_gen = n - len(dead_node)\n",
    "\ts_trans = 0\n",
    "\te = 0\n",
    "\tl = 0\n",
    "\tfailed_msg = 0\n",
    "\tfor node in net.node_list:\n",
    "\t\tif node in dead_node:\n",
    "\t\t\tcontinue\n",
    "\t\tpath = nx.shortest_path(net.nxg, 0, node.id)\n",
    "\t\tpath.reverse()\n",
    "\t\tcurr = net.node_map[path.pop()]\n",
    "\t\tfail = 0\n",
    "\t\twhile len(path) != 0:\n",
    "\t\t\tnext = net.node_map[path.pop()]\n",
    "\t\t\tif next.current_energy < next.critical_energy or curr.current_energy < curr.critical_energy:\n",
    "\t\t\t\tfail = 1\n",
    "\t\t\t\tbreak\n",
    "\t\t\tl += lm[curr.id][next.id]\n",
    "\t\t\tcurr.current_energy -= curr.energy_for_transmission(k, next.dist(curr))\n",
    "\t\t\tnext.current_energy -= er\n",
    "\t\t\tcurr = next\n",
    "\t\tif curr != sink or fail == 1:\n",
    "\t\t\tet = node.energy_for_transmission(k, dm[node.id][sink.id])\n",
    "\t\t\tif et > node.current_energy:\n",
    "\t\t\t\tfailed_msg += 1\n",
    "\t\t\t\tdead_node.add(node)\n",
    "\t\t\t\ttry:\n",
    "\t\t\t\t\tnet.nxg.remove_node(node)\n",
    "\t\t\t\texcept NetworkXError:\n",
    "\t\t\t\t\tprint(node.id)\n",
    "\t\t\telse:\n",
    "\t\t\t\tnode.current_energy -= et\n",
    "\t\t\t\ts_trans += 1\n",
    "\t\t\t\tcontinue\n",
    "\tfor node in net.node_list:\n",
    "\t\te += max(node.current_energy, node.critical_energy)\n",
    "\t\tif node.current_energy <= node.critical_energy:\n",
    "\t\t\tdead_node.add(node)\n",
    "\t\t\t\n",
    "\tlatency_per_round.append(l)\n",
    "\tenergy_per_round.append(e)\n",
    "\tthroughput_per_round.append([message_gen, s_trans, s_trans/message_gen, failed_msg])\n",
    "\ttotal_latency+= l\n",
    "\te = 0\n",
    "\tl = 0\n",
    "\ts_trans = 0\n",
    "\tfailed_msg=0\n",
    "\trnds += 1"
   ]
  },
  {
   "cell_type": "code",
   "execution_count": null,
   "metadata": {},
   "outputs": [],
   "source": [
    "plt.plot([x[-2] for x in throughput_per_round])"
   ]
  },
  {
   "cell_type": "code",
   "execution_count": null,
   "metadata": {},
   "outputs": [],
   "source": [
    "from numpy.random import normal \n",
    "cnt = 10\n",
    "for _ in range(2):\n",
    "\tx = normal(0, 0.5, cnt)\n",
    "\tcnt = 0\n",
    "\tfor i in range(len(x)):\n",
    "\t\tx[i] = round(x[i], 2)\n",
    "\t\tif x[i] <= 0.96 and x[i] >= -0.96:\n",
    "\t\t\tcnt += 1\n",
    "\t# print(x)\n",
    "\t\n",
    "\tprint(cnt)"
   ]
  },
  {
   "cell_type": "code",
   "execution_count": null,
   "metadata": {},
   "outputs": [],
   "source": [
    "import matplotlib.pyplot as plt\n",
    "x = normal(15, 2, 100)\n",
    "plt.hist(x)"
   ]
  },
  {
   "cell_type": "code",
   "execution_count": null,
   "metadata": {},
   "outputs": [],
   "source": [
    "from scipy.stats import truncnorm\n",
    "\n",
    "def get_truncated_normal(mean=0, sd=1, low=0, upp=10):\n",
    "    return truncnorm(\n",
    "        (low - mean) / sd, (upp - mean) / sd, loc=mean, scale=sd)"
   ]
  },
  {
   "cell_type": "code",
   "execution_count": null,
   "metadata": {},
   "outputs": [],
   "source": [
    "X = get_truncated_normal(17, 3, 0, 22)\n"
   ]
  },
  {
   "cell_type": "code",
   "execution_count": null,
   "metadata": {},
   "outputs": [],
   "source": [
    "X.rvs()\n"
   ]
  },
  {
   "cell_type": "code",
   "execution_count": null,
   "metadata": {},
   "outputs": [],
   "source": [
    "net1 = network(50,50,20,0,0)\n",
    "net1.initialise_nodes(0.25,0)\n",
    "net1.set_parameters(2000, 256, 2000, 3*1e8, 5)\n",
    "net1.set_nxg()\n",
    "net1.show_graph()\n",
    "\n",
    "\n",
    "net1.packet_length=64\n",
    "packets=25\n",
    "\n",
    "for n in net1.node_list:\n",
    "\tn.initial_energy=2.5\n",
    "\tn.critical_energy = 0.0\n",
    "\tn.set_packets(packets)\n"
   ]
  },
  {
   "cell_type": "code",
   "execution_count": 11,
   "metadata": {},
   "outputs": [
    {
     "name": "stdout",
     "output_type": "stream",
     "text": [
      "3122\n"
     ]
    }
   ],
   "source": [
    "# Direct CODE\n",
    "\n",
    "# from network import *\n",
    "# from node import *\n",
    "# import network as nx\n",
    "# import math\n",
    "\n",
    "def drop_packs(trasn_packs):\n",
    "\treturn max(math.floor(normal(trasn_packs*0.07, 2)),0)\n",
    "\n",
    "def node2NodeTransmission(curr, next):\n",
    "\tet = curr.energy_for_transmission(k, next.dist(curr))\n",
    "\ttransferred_packets = min(curr.packets_this_rnd, math.ceil(curr.current_energy/et))\n",
    "\tcurr.current_energy -= (transferred_packets*et)\n",
    "\tdropped_p = drop_packs(transferred_packets)\n",
    "\treceived_packets = max(transferred_packets - dropped_p, 0)\n",
    "\tnext.current_energy -= (received_packets*er)\n",
    "\tnext.packets_this_rnd += received_packets\n",
    "\treturn lm[curr.id][next.id]\n",
    "\n",
    "# net = network(500, 500, 400, 0, 0)\n",
    "# path = \"results/network_data/network1network_data.npy\"\n",
    "# parent_dir = \"./results/conventional/result\"\n",
    "# gd=net.load_network(path,1)\n",
    "\n",
    "\n",
    "# net.packet_length=128\n",
    "# packets=50\n",
    "\n",
    "# for n in net.node_list:\n",
    "# \tn.curent_energy= 25\n",
    "# \tn.critical_energy = 0.0\n",
    "# \tn.set_packets(packets)\n",
    "\n",
    "# net=net1\n",
    "# net.show_graph()\n",
    "\n",
    "\n",
    "net = network(50,50,20,0,0)\n",
    "net.initialise_nodes(2.5,0)\n",
    "net.set_parameters(2000, 256, 2000, 3*1e8, 5)\n",
    "net.set_nxg()\n",
    "# net.show_graph()\n",
    "\n",
    "\n",
    "net.packet_length=64\n",
    "packets=25\n",
    "\n",
    "for n in net.node_list:\n",
    "\tn.initial_energy=2.5\n",
    "\tn.critical_energy = 0.0\n",
    "\tn.set_packets(packets)\n",
    "\n",
    "\n",
    "\n",
    "\n",
    "dead_nodes=set()\n",
    "N = net.number_of_nodes\n",
    "k = net.packet_length\n",
    "sink = net.sink\n",
    "rnd = 0\n",
    "net.calculate_latency()\n",
    "lm = net.latency_matrix\n",
    "e_r = []\n",
    "l_r = []\n",
    "th_r = []\n",
    "avg_lat_r = []\n",
    "live_nodes = []\n",
    "rnds=0\n",
    "\n",
    "total_latency=0\n",
    "rnd_latency=0\n",
    "er = sink.energy_for_reception(k)\n",
    "\n",
    "while len(dead_nodes) < 0.9*N:\n",
    "\tmessage_gen = (N - len(dead_nodes))*packets\n",
    "\te=0\n",
    "\tl=0\n",
    "\tsink.packets_this_rnd=0\n",
    "\tfor Node in net.node_list:\n",
    "\t\tif Node.id in dead_nodes:\n",
    "\t\t\tcontinue\n",
    "\t\tNode.set_packets(packets)\n",
    "\t\ttry:\n",
    "\t\t\tpath=nx.shortest_path(net.nxg, Node.id, 0)\n",
    "\t\texcept:\n",
    "\t\t\tpass\n",
    "\t\tfinally:\n",
    "\t\t\tl+= node2NodeTransmission(Node,sink)\n",
    "\t\t\tif Node.current_energy < Node.critical_energy:\n",
    "\t\t\t\tdead_nodes.add(Node.id)\n",
    "\t\t\t\tnet.nxg.remove_node(Node.id)\n",
    "\t\te += max(Node.current_energy, Node.critical_energy)\n",
    "\tl_r.append(l)\n",
    "\te_r.append(e)\n",
    "\tth_r.append([message_gen, sink.packets_this_rnd, round(sink.packets_this_rnd/message_gen, 3)])\n",
    "\tlive_nodes.append(N - len(dead_nodes))\n",
    "\trnds += 1\n",
    "\n",
    "print(rnds)\n",
    "\n",
    "ld, ed, td = l_r, e_r, th_r\n",
    "liveD = live_nodes"
   ]
  },
  {
   "cell_type": "code",
   "execution_count": 12,
   "metadata": {},
   "outputs": [
    {
     "name": "stdout",
     "output_type": "stream",
     "text": [
      "3123\n"
     ]
    }
   ],
   "source": [
    "from network import *\n",
    "import math\n",
    "from numpy.random import normal\n",
    "from networkx.exception import NetworkXNoPath\n",
    "\n",
    "hist = []\n",
    "def drop_packs(trasn_packs):\n",
    "\treturn max(math.floor(normal(trasn_packs*0.07, 2)),0)\n",
    "\n",
    "def node2NodeTransmission(curr, next):\n",
    "\tet = curr.energy_for_transmission(k, next.dist(curr))\n",
    "\ttransferred_packets = min(curr.packets_this_rnd, math.ceil(curr.current_energy/et))\n",
    "\tcurr.current_energy -= (transferred_packets*et)\n",
    "\tdropped_p = drop_packs(transferred_packets)\n",
    "\thist.append([transferred_packets, dropped_p])\n",
    "\treceived_packets = max(transferred_packets - dropped_p, 0)\n",
    "\tnext.current_energy -= (received_packets*er)\n",
    "\tnext.packets_this_rnd += received_packets\n",
    "\treturn lm[curr.id][next.id]\n",
    "\n",
    "def add_dead_node(c):\n",
    "\tif c.current_energy < c.critical_energy:\n",
    "\t\tdead_nodes.add(c.id)\n",
    "\t\ttry:\n",
    "\t\t\tnet.nxg.remove_node(Node.id)\n",
    "\t\texcept:\n",
    "\t\t\tpass\n",
    "\treturn c.current_energy < c.critical_energy\n",
    "\n",
    "# net = network(500, 500, 400, 0, 0)\n",
    "# path = \"results/ppo/result/0-graph_data.npy\"\n",
    "# parent_dir = \"results/fsw-ppo/\"\n",
    "# graph_data = net.load_network(path, 0)\n",
    "# net.show_graph()\n",
    "# #initialises node\n",
    "\n",
    "# #initial residual energy:\n",
    "# net.packet_length=64\n",
    "# packets = 25\n",
    "\n",
    "# for n in net.node_list:\n",
    "# \tn.current_energy = 25\n",
    "# \tn.critical_energy = 0.0\n",
    "# \tn.set_packets(packets)\n",
    "\n",
    "\n",
    "\n",
    "\n",
    "net = network(50,50,20,0,0)\n",
    "net.initialise_nodes(2.5,0)\n",
    "net.set_parameters(2000, 256, 2000, 3*1e8, 5)\n",
    "net.set_nxg()\n",
    "# net.show_graph()\n",
    "\n",
    "\n",
    "net.packet_length=64\n",
    "packets=25\n",
    "\n",
    "for n in net.node_list:\n",
    "\tn.initial_energy=2.5\n",
    "\tn.critical_energy = 0.0\n",
    "\tn.set_packets(packets)\n",
    "\n",
    "# net=net1\n",
    "# net.show_graph()\n",
    "dead_nodes = set()\n",
    "N = net.number_of_nodes\n",
    "k = net.packet_length\n",
    "sink = net.sink\n",
    "net.calculate_latency()\n",
    "er = sink.energy_for_reception(k)\n",
    "lm=net.latency_matrix\n",
    "dm=net.calculate_dist()\n",
    "e_r = []\n",
    "l_r= []\n",
    "th_r= []\n",
    "live_nodes = []\n",
    "rnds=0\n",
    "\n",
    "while len(dead_nodes) < 0.9*N:\n",
    "\tmessage_gen = (N - len(dead_nodes))*packets\n",
    "\te=0\n",
    "\tl=0\n",
    "\tsink.packets_this_rnd=0\n",
    "\tfor Node in net.node_list:\n",
    "\t\tif Node.id in dead_nodes:\n",
    "\t\t\tcontinue\n",
    "\t\tNode.set_packets(packets)\n",
    "\t\ttry:\n",
    "\t\t\tpath=nx.shortest_path(net.nxg, Node.id, 0)\n",
    "\t\t\tpath.reverse()\n",
    "\t\t\twhile len(path) != 2:\n",
    "\t\t\t\tc = net.node_map[path.pop()]\n",
    "\t\t\t\tn = net.node_map[path[-1]]\n",
    "\t\t\t\tl += node2NodeTransmission(c, n)\n",
    "\t\t\t\tadd_dead_node(c)\n",
    "\t\t\t\tif add_dead_node(n):\n",
    "\t\t\t\t\tbreak\n",
    "\t\texcept:\n",
    "\t\t\tpath=[0,Node.id]\n",
    "\t\tfinally:\n",
    "\t\t\tcurr = net.node_map[path.pop()]\n",
    "\t\t\tsink = net.node_map[path[-1]]\n",
    "\t\t\tl+= node2NodeTransmission(Node,sink)\n",
    "\t\t\tadd_dead_node(Node)\n",
    "\t\te += max(Node.current_energy, Node.critical_energy)\n",
    "\tl_r.append(l)\n",
    "\te_r.append(e)\n",
    "\tth_r.append([message_gen, sink.packets_this_rnd, round(sink.packets_this_rnd/message_gen, 3)])\n",
    "\tlive_nodes.append(N - len(dead_nodes))\n",
    "\trnds += 1\n",
    "\n",
    "print(rnds)\n",
    "\n",
    "lh, eh, th = l_r, e_r, th_r\n",
    "liveh = live_nodes"
   ]
  },
  {
   "cell_type": "code",
   "execution_count": 9,
   "metadata": {},
   "outputs": [
    {
     "data": {
      "text/plain": [
       "<matplotlib.legend.Legend at 0x1325fe920>"
      ]
     },
     "execution_count": 9,
     "metadata": {},
     "output_type": "execute_result"
    },
    {
     "data": {
      "image/png": "[encoded data removed]",
      "text/plain": [
       "<Figure size 640x480 with 1 Axes>"
      ]
     },
     "metadata": {},
     "output_type": "display_data"
    }
   ],
   "source": [
    "plt.plot([t[-1] for t in th], label = \"multihop\")\n",
    "plt.plot([t[-1] for t in td], label = \"direct\")\n",
    "plt.plot([t[-1] for t in tl], label = \"leach\")\n",
    "plt.legend()"
   ]
  },
  {
   "cell_type": "code",
   "execution_count": null,
   "metadata": {},
   "outputs": [],
   "source": [
    "net.show_graph()"
   ]
  },
  {
   "cell_type": "code",
   "execution_count": null,
   "metadata": {},
   "outputs": [],
   "source": []
  }
 ],
 "metadata": {
  "kernelspec": {
   "display_name": "wsn",
   "language": "python",
   "name": "python3"
  },
  "language_info": {
   "codemirror_mode": {
    "name": "ipython",
    "version": 3
   },
   "file_extension": ".py",
   "mimetype": "text/x-python",
   "name": "python",
   "nbconvert_exporter": "python",
   "pygments_lexer": "ipython3",
   "version": "3.10.10"
  }
 },
 "nbformat": 4,
 "nbformat_minor": 2
}
