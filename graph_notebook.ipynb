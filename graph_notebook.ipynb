{
 "cells": [
  {
   "cell_type": "code",
   "execution_count": null,
   "metadata": {},
   "outputs": [],
   "source": [
    "import networkx\n",
    "from network import *\n",
    "from node import *"
   ]
  },
  {
   "cell_type": "markdown",
   "metadata": {},
   "source": [
    "Getting data for network performance"
   ]
  },
  {
   "cell_type": "code",
   "execution_count": 6,
   "metadata": {},
   "outputs": [],
   "source": [
    "import matplotlib.pyplot as plt\n",
    "import numpy as np\n",
    "import pandas as pd"
   ]
  },
  {
   "cell_type": "code",
   "execution_count": null,
   "metadata": {},
   "outputs": [],
   "source": [
    "data_path = \"results/performance/multi-hop/result16-performance.npy\"\n",
    "data1 = np.load(data_path, allow_pickle=True).item()\n",
    "data_path = \"results/performance/multi-hop/network1-performance.npy\"\n",
    "data2 = np.load(data_path, allow_pickle=True).item()\n",
    "data_path = \"results/performance/multi-hop/result93-performance.npy\"\n",
    "data3 = np.load(data_path, allow_pickle=True).item()\n",
    "data3.keys()\n",
    "path = \"results/performance/multi-hop/\""
   ]
  },
  {
   "cell_type": "code",
   "execution_count": null,
   "metadata": {},
   "outputs": [],
   "source": [
    "def func(data1):\n",
    "\tp = 0\n",
    "\tp_list = []\n",
    "\tdf = data1\n",
    "\ts_trans = [i[1] for i in df['throughput']]\n",
    "\tfor i in s_trans:\n",
    "\t\tp_list.append(i - p)\n",
    "\t\tp = i\n",
    "\ts_trans = [i[2] for i in df['throughput']]\n",
    "\tt = []\n",
    "\t# data2['throughput'] = []\n",
    "\tfor i in range(len(s_trans)):\n",
    "\t\tthr = p_list[i]/s_trans[i]\n",
    "\t\tround(thr, 2)\n",
    "\t\tt.append(thr)\n",
    "\t\t# data2['throughput'].append(thr)\n",
    "\t\t\n",
    "\tdata1['t'] = t\n",
    "\n",
    "func(data1)\n",
    "func(data2)\n",
    "func(data3)"
   ]
  },
  {
   "cell_type": "code",
   "execution_count": null,
   "metadata": {},
   "outputs": [],
   "source": [
    "plt.plot(data1['t'],\"-.\", label = 'server', lw = 1)\n",
    "plt.plot(data2['t'], label = 'default', lw = 1)\n",
    "plt.plot(data3['t'], \"-.\", label = 'serverless', lw = 1)\n",
    "plt.legend()\n",
    "plt.show()"
   ]
  },
  {
   "cell_type": "code",
   "execution_count": null,
   "metadata": {},
   "outputs": [],
   "source": [
    "def get_plot(prop, label):\n",
    "\td = {\n",
    "\t\t\"default\" : list(data2[prop]),\n",
    "\t\t\"serverless\" : list(data1[prop]),\n",
    "\t\t\"server\" : list(data3[prop]),\n",
    "\t}\n",
    "\n",
    "\tmaxl = 0\n",
    "\tfor key in d:\n",
    "\t\tmaxl = max(maxl, len(d[key]))\n",
    "\t\tif key == \"throughput\":\n",
    "\t\t\td[key] = [round(i[1]/i[2], 2) for i in d[key]]\n",
    "\t\t\n",
    "\t\n",
    "\tlifetime = [i for i in range(1, maxl + 1)]\n",
    "\tplt.figure(figsize=(18, 18))\n",
    "\tprint(\"key\", d[key])\n",
    "\t# print(maxl)\n",
    "\tpat = ['-.', '-', '-']\n",
    "\tfor key in d:\n",
    "\t\td[key] += [0] * (maxl - len(d[key]))\n",
    "\t\tplt.plot(lifetime, d[key], pat.pop(), label = key, lw = 1)\n",
    "\tplt.xlabel(\"lifetime\")\n",
    "\tplt.ylabel(label)\n",
    "\tplt.legend()\n",
    "\t\n",
    "\t\n",
    "\t#for energy: \n",
    "\t# plt.xlim(200, 2100)\n",
    "\t# plt.ylim(0, 0.6)\n",
    "\tplt.plot()\n",
    "\t# plt.savefig(path + \"throughput-t\" + \".svg\")\n",
    "\tplt.show()"
   ]
  },
  {
   "cell_type": "code",
   "execution_count": null,
   "metadata": {},
   "outputs": [],
   "source": [
    "data_path = \"results/performance/direct/res-network1-performance.npy\"\n",
    "data2 = np.load(data_path, allow_pickle=True).item()  #data2 default\n",
    "data_path = \"results/performance/direct/res-server-performance.npy\"\n",
    "data1 = np.load(data_path, allow_pickle=True).item() #data1 server\n",
    "data_path = \"results/performance/direct/res-serverless-performance.npy\"\n",
    "data3 = np.load(data_path, allow_pickle=True).item() #data3 serverless\n",
    "data3.keys()\n",
    "\n",
    "path = \"results/performance/direct/\""
   ]
  },
  {
   "cell_type": "code",
   "execution_count": null,
   "metadata": {},
   "outputs": [],
   "source": [
    "get_plot(\"t\", \"\")"
   ]
  },
  {
   "cell_type": "code",
   "execution_count": 15,
   "metadata": {},
   "outputs": [
    {
     "name": "stdout",
     "output_type": "stream",
     "text": [
      "    no    acc    apl  small_worldness\n",
      "0    0  0.505  3.414           0.1479\n",
      "1    1  0.498  3.401           0.1464\n",
      "2    2  0.503  3.408           0.1476\n",
      "3    3  0.503  3.398           0.1480\n",
      "4    4  0.498  3.385           0.1471\n",
      "5    5  0.497  3.402           0.1461\n",
      "6    6  0.498  3.415           0.1458\n",
      "7    7  0.507  3.426           0.1480\n",
      "8    8  0.501  3.401           0.1473\n",
      "9    9  0.501  3.397           0.1475\n",
      "10  10  0.507  3.379           0.1500\n",
      "11  11  0.502  3.407           0.1473\n",
      "12  12  0.500  3.398           0.1471\n",
      "13  13  0.499  3.404           0.1466\n",
      "14  14  0.500  3.403           0.1469\n",
      "15  15  0.503  3.390           0.1484\n",
      "16  16  0.503  3.431           0.1466\n",
      "17  17  0.499  3.416           0.1461\n",
      "18  18  0.495  3.415           0.1449\n",
      "19  19  0.497  3.440           0.1445\n"
     ]
    },
    {
     "data": {
      "image/png": "[encoded data removed]",
      "text/plain": [
       "<Figure size 400x400 with 1 Axes>"
      ]
     },
     "metadata": {},
     "output_type": "display_data"
    }
   ],
   "source": [
    "path = \"results/result16/history.txt\"\n",
    "path2 = \"results/result93/history.txt\"\n",
    "df = pd.read_csv(path)\n",
    "df2 = pd.read_csv(path2) \n",
    "print(df)\n",
    "plt.figure(figsize=(4,4))\n",
    "plt.plot(df['no'], df['acc'], label = 'acc', lw = 1)\n",
    "plt.plot(df['no'], df2['acc'], label = 'acc-gateway', lw = 1)\n",
    "plt.legend()\n",
    "plt.ylim(0.4, 0.6)\n",
    "plt.title(\"ACC\")\n",
    "# plt.plot(df['apl'], label = 'apl')\n",
    "plt.show()"
   ]
  },
  {
   "cell_type": "code",
   "execution_count": 21,
   "metadata": {},
   "outputs": [
    {
     "data": {
      "image/png": "[encoded data removed]",
      "text/plain": [
       "<Figure size 500x500 with 1 Axes>"
      ]
     },
     "metadata": {},
     "output_type": "display_data"
    }
   ],
   "source": [
    "plt.figure(figsize=(5,5))\n",
    "plt.plot(df['no'], df['apl'], label = 'apl', lw = 1)\n",
    "plt.plot(df['no'], df2['apl'], label = 'apl-gateway', lw = 1)\n",
    "plt.title('APL')\n",
    "plt.legend()\n",
    "plt.ylim(1, 4)\n",
    "plt.show()"
   ]
  },
  {
   "cell_type": "code",
   "execution_count": 23,
   "metadata": {},
   "outputs": [
    {
     "data": {
      "image/png": "[encoded data removed]",
      "text/plain": [
       "<Figure size 640x480 with 1 Axes>"
      ]
     },
     "metadata": {},
     "output_type": "display_data"
    }
   ],
   "source": [
    "plt.plot(df['no'],df['small_worldness'], label = 'sw', lw = 1)\n",
    "plt.plot(df['no'], df2['small_worldness'], label = 'sw-gateway', lw = 1)\n",
    "plt.ylim(0, 0.24)\n",
    "plt.legend()\n",
    "plt.show()"
   ]
  },
  {
   "cell_type": "code",
   "execution_count": null,
   "metadata": {},
   "outputs": [],
   "source": [
    "path = \"results/result93/history3.txt\"\n",
    "df = pd.read_csv(path)\n",
    "plt.plot(df['apl'])\n",
    "plt.show()"
   ]
  },
  {
   "cell_type": "code",
   "execution_count": null,
   "metadata": {},
   "outputs": [],
   "source": [
    "path = \"results/result16/history9.txt\"\n",
    "df = pd.read_csv(path)\n",
    "plt.plot(df['apl'])\n",
    "plt.show()"
   ]
  },
  {
   "cell_type": "code",
   "execution_count": null,
   "metadata": {},
   "outputs": [],
   "source": [
    "import networkx as nx\n",
    "from network import *\n",
    "path = \"results/network_data/network1network_data.npy\"\n",
    "net = network(500, 500, 400, 0, 0)"
   ]
  },
  {
   "cell_type": "code",
   "execution_count": null,
   "metadata": {},
   "outputs": [],
   "source": [
    "def load_network(graph_data_path, save_mode):\n",
    "\t\"\"\"\n",
    "\tsave_mode: 0 -> old network data\n",
    "\tsave_mode: 1 -> new network data\n",
    "\t\"\"\"\n",
    "\tif(save_mode == 0):\n",
    "\t\tnet.initialise_nodes_fixed(1, 0)\n",
    "\t\tnet.set_parameters(2000, 8, 2000, 3*1e8, 50)\n",
    "\t\t#load graph\n",
    "\n",
    "\t\tgraph_data = np.load(graph_data_path, allow_pickle=True).item()\n",
    "\telse:\n",
    "\t\t_, _, graph_data = net.load_network_topology(graph_data_path)\n",
    "\n",
    "\tfor Node in net.node_list:\n",
    "\t\tNode.critical_energy = 0.0\n",
    "\n",
    "\tG = net.set_nxg_from_npy(graph_data)\n",
    "\t# net.show_graph() \n",
    "\treturn G, graph_data"
   ]
  },
  {
   "cell_type": "code",
   "execution_count": null,
   "metadata": {},
   "outputs": [],
   "source": [
    "G, graph_data = load_network(path, 1)\n",
    "G.remove_node(0)\n",
    "net.show_graph()"
   ]
  },
  {
   "cell_type": "code",
   "execution_count": null,
   "metadata": {},
   "outputs": [],
   "source": [
    "from node2vec import Node2Vec"
   ]
  },
  {
   "cell_type": "code",
   "execution_count": null,
   "metadata": {},
   "outputs": [],
   "source": [
    "node2vec = Node2Vec(G, dimensions=2, walk_length=20, num_walks=10,workers=4)\n",
    "model = node2vec.fit(window=10, min_count=1)\n",
    "model.wv.save_word2vec_format(\"embedding.emb\") #save the embedding in file embedding.emb"
   ]
  },
  {
   "cell_type": "code",
   "execution_count": null,
   "metadata": {},
   "outputs": [],
   "source": [
    "from sklearn.cluster import KMeans\n",
    "import numpy as np"
   ]
  },
  {
   "cell_type": "code",
   "execution_count": null,
   "metadata": {},
   "outputs": [],
   "source": [
    "X = np.loadtxt(\"embedding.emb\", skiprows=1)\n",
    "X=X[X[:,0].argsort()]\n",
    "Z=X[0:X.shape[0],1:X.shape[1]]"
   ]
  },
  {
   "cell_type": "code",
   "execution_count": null,
   "metadata": {},
   "outputs": [],
   "source": [
    "kmeans = KMeans(n_clusters=100, n_init= 'auto',random_state=0, algorithm=\"lloyd\").fit(Z)\n",
    "labels=kmeans.labels_  # get the cluster labels of the nodes."
   ]
  },
  {
   "cell_type": "code",
   "execution_count": null,
   "metadata": {},
   "outputs": [],
   "source": [
    "label_data = {\n",
    "    \"data\": list(labels)\n",
    "}\n",
    "np.save(\"./leach-cluster-label.npy\", label_data)"
   ]
  },
  {
   "cell_type": "code",
   "execution_count": null,
   "metadata": {},
   "outputs": [],
   "source": [
    "cnt =0\n",
    "for x in labels:\n",
    "    if x == 0:\n",
    "        cnt += 1\n",
    "\n",
    "print(cnt)"
   ]
  },
  {
   "cell_type": "code",
   "execution_count": null,
   "metadata": {},
   "outputs": [],
   "source": [
    "net.show_cluster(\"./leach-cluster-label.npy\", 100)"
   ]
  },
  {
   "cell_type": "code",
   "execution_count": null,
   "metadata": {},
   "outputs": [],
   "source": []
  },
  {
   "cell_type": "code",
   "execution_count": null,
   "metadata": {},
   "outputs": [],
   "source": []
  },
  {
   "cell_type": "code",
   "execution_count": null,
   "metadata": {},
   "outputs": [],
   "source": [
    "maxi = 0\n",
    "for k in range(100):\n",
    "\tcnt = 0\n",
    "\tfor i in range(len(labels)):\n",
    "\t\tif i == k:\n",
    "\t\t\tcnt += 1\n",
    "\tmaxi = max(maxi, cnt)\n",
    "\tprint(k, cnt)\n",
    "print(maxi)"
   ]
  },
  {
   "cell_type": "code",
   "execution_count": 73,
   "metadata": {},
   "outputs": [
    {
     "name": "stdout",
     "output_type": "stream",
     "text": [
      "(201, 4) (285, 4)\n",
      "(200, 3) (200, 3)\n"
     ]
    },
    {
     "data": {
      "image/png": "[encoded data removed]",
      "text/plain": [
       "<Figure size 600x600 with 1 Axes>"
      ]
     },
     "metadata": {},
     "output_type": "display_data"
    }
   ],
   "source": [
    "path = \"results/result16/history9.txt\"\n",
    "df = pd.read_csv(path)\n",
    "path = \"results/result93/history3.txt\"\n",
    "df2 = pd.read_csv(path)\n",
    "print(df.shape, df2.shape)\n",
    "df = df.drop('no.', axis=1)\n",
    "df2 = df2.drop('no.', axis=1)\n",
    "df = df.drop(0)\n",
    "df2 = df2.drop(0)\n",
    "df = df.drop_duplicates(keep='last')\n",
    "df2 = df2.drop_duplicates(keep='last')\n",
    "df = df.reset_index()\n",
    "df2 = df2.reset_index()\n",
    "df = df.drop('index', axis=1)\n",
    "df2 = df2.drop('index', axis=1)\n",
    "print(df.shape, df2.shape)\n",
    "plt.figure(figsize=(6,6))\n",
    "plt.plot(df.index, df['small_worldness'], lw = 1, label = \"sw\")\n",
    "plt.plot(df2.index, df2['small_worldness'], lw = 1, label = \"sw-gateway\")\n",
    "plt.legend()\n",
    "plt.title(\"best iteration sw\")\n",
    "plt.show()"
   ]
  },
  {
   "cell_type": "code",
   "execution_count": 78,
   "metadata": {},
   "outputs": [
    {
     "data": {
      "text/html": [
       "<div>\n",
       "<style scoped>\n",
       "    .dataframe tbody tr th:only-of-type {\n",
       "        vertical-align: middle;\n",
       "    }\n",
       "\n",
       "    .dataframe tbody tr th {\n",
       "        vertical-align: top;\n",
       "    }\n",
       "\n",
       "    .dataframe thead th {\n",
       "        text-align: right;\n",
       "    }\n",
       "</style>\n",
       "<table border=\"1\" class=\"dataframe\">\n",
       "  <thead>\n",
       "    <tr style=\"text-align: right;\">\n",
       "      <th></th>\n",
       "      <th>acc</th>\n",
       "      <th>apl</th>\n",
       "      <th>small_worldness</th>\n",
       "    </tr>\n",
       "  </thead>\n",
       "  <tbody>\n",
       "    <tr>\n",
       "      <th>30</th>\n",
       "      <td>0.583</td>\n",
       "      <td>4.188</td>\n",
       "      <td>0.1392</td>\n",
       "    </tr>\n",
       "    <tr>\n",
       "      <th>21</th>\n",
       "      <td>0.585</td>\n",
       "      <td>4.545</td>\n",
       "      <td>0.1287</td>\n",
       "    </tr>\n",
       "    <tr>\n",
       "      <th>14</th>\n",
       "      <td>0.587</td>\n",
       "      <td>4.879</td>\n",
       "      <td>0.1203</td>\n",
       "    </tr>\n",
       "    <tr>\n",
       "      <th>154</th>\n",
       "      <td>0.577</td>\n",
       "      <td>3.054</td>\n",
       "      <td>0.1889</td>\n",
       "    </tr>\n",
       "    <tr>\n",
       "      <th>12</th>\n",
       "      <td>0.587</td>\n",
       "      <td>4.970</td>\n",
       "      <td>0.1181</td>\n",
       "    </tr>\n",
       "    <tr>\n",
       "      <th>95</th>\n",
       "      <td>0.577</td>\n",
       "      <td>3.382</td>\n",
       "      <td>0.1706</td>\n",
       "    </tr>\n",
       "    <tr>\n",
       "      <th>129</th>\n",
       "      <td>0.577</td>\n",
       "      <td>3.181</td>\n",
       "      <td>0.1814</td>\n",
       "    </tr>\n",
       "    <tr>\n",
       "      <th>172</th>\n",
       "      <td>0.580</td>\n",
       "      <td>2.975</td>\n",
       "      <td>0.1950</td>\n",
       "    </tr>\n",
       "    <tr>\n",
       "      <th>86</th>\n",
       "      <td>0.577</td>\n",
       "      <td>3.456</td>\n",
       "      <td>0.1670</td>\n",
       "    </tr>\n",
       "    <tr>\n",
       "      <th>133</th>\n",
       "      <td>0.577</td>\n",
       "      <td>3.158</td>\n",
       "      <td>0.1827</td>\n",
       "    </tr>\n",
       "    <tr>\n",
       "      <th>91</th>\n",
       "      <td>0.577</td>\n",
       "      <td>3.416</td>\n",
       "      <td>0.1689</td>\n",
       "    </tr>\n",
       "    <tr>\n",
       "      <th>173</th>\n",
       "      <td>0.580</td>\n",
       "      <td>2.971</td>\n",
       "      <td>0.1952</td>\n",
       "    </tr>\n",
       "    <tr>\n",
       "      <th>37</th>\n",
       "      <td>0.582</td>\n",
       "      <td>4.054</td>\n",
       "      <td>0.1436</td>\n",
       "    </tr>\n",
       "    <tr>\n",
       "      <th>176</th>\n",
       "      <td>0.581</td>\n",
       "      <td>2.957</td>\n",
       "      <td>0.1965</td>\n",
       "    </tr>\n",
       "    <tr>\n",
       "      <th>35</th>\n",
       "      <td>0.582</td>\n",
       "      <td>4.102</td>\n",
       "      <td>0.1419</td>\n",
       "    </tr>\n",
       "    <tr>\n",
       "      <th>157</th>\n",
       "      <td>0.578</td>\n",
       "      <td>3.040</td>\n",
       "      <td>0.1901</td>\n",
       "    </tr>\n",
       "    <tr>\n",
       "      <th>120</th>\n",
       "      <td>0.577</td>\n",
       "      <td>3.221</td>\n",
       "      <td>0.1791</td>\n",
       "    </tr>\n",
       "    <tr>\n",
       "      <th>22</th>\n",
       "      <td>0.585</td>\n",
       "      <td>4.532</td>\n",
       "      <td>0.1291</td>\n",
       "    </tr>\n",
       "    <tr>\n",
       "      <th>109</th>\n",
       "      <td>0.578</td>\n",
       "      <td>3.307</td>\n",
       "      <td>0.1748</td>\n",
       "    </tr>\n",
       "    <tr>\n",
       "      <th>50</th>\n",
       "      <td>0.580</td>\n",
       "      <td>3.901</td>\n",
       "      <td>0.1487</td>\n",
       "    </tr>\n",
       "  </tbody>\n",
       "</table>\n",
       "</div>"
      ],
      "text/plain": [
       "       acc    apl  small_worldness\n",
       "30   0.583  4.188           0.1392\n",
       "21   0.585  4.545           0.1287\n",
       "14   0.587  4.879           0.1203\n",
       "154  0.577  3.054           0.1889\n",
       "12   0.587  4.970           0.1181\n",
       "95   0.577  3.382           0.1706\n",
       "129  0.577  3.181           0.1814\n",
       "172  0.580  2.975           0.1950\n",
       "86   0.577  3.456           0.1670\n",
       "133  0.577  3.158           0.1827\n",
       "91   0.577  3.416           0.1689\n",
       "173  0.580  2.971           0.1952\n",
       "37   0.582  4.054           0.1436\n",
       "176  0.581  2.957           0.1965\n",
       "35   0.582  4.102           0.1419\n",
       "157  0.578  3.040           0.1901\n",
       "120  0.577  3.221           0.1791\n",
       "22   0.585  4.532           0.1291\n",
       "109  0.578  3.307           0.1748\n",
       "50   0.580  3.901           0.1487"
      ]
     },
     "execution_count": 78,
     "metadata": {},
     "output_type": "execute_result"
    }
   ],
   "source": [
    "df2.sample(20)"
   ]
  },
  {
   "cell_type": "code",
   "execution_count": 88,
   "metadata": {},
   "outputs": [
    {
     "data": {
      "image/png": "[encoded data removed]",
      "text/plain": [
       "<Figure size 600x600 with 1 Axes>"
      ]
     },
     "metadata": {},
     "output_type": "display_data"
    }
   ],
   "source": [
    "plt.figure(figsize=(6,6))\n",
    "plt.plot(df.index, df['acc'], lw = 1, label = \"acc\")\n",
    "plt.plot(df2.index, df2['acc'], lw = 1, label = \"acc-gateway\")\n",
    "plt.legend()\n",
    "# plt.ylim(0.49, 0.7)\n",
    "plt.title(\"best iteration acc\")\n",
    "plt.show()"
   ]
  },
  {
   "cell_type": "code",
   "execution_count": null,
   "metadata": {},
   "outputs": [],
   "source": []
  },
  {
   "cell_type": "code",
   "execution_count": 7,
   "metadata": {},
   "outputs": [],
   "source": [
    "import numpy as np\n",
    "data = './results/performance/leach/cluster-leach.npy-performance.npy'\n",
    "dt = np.load(data, allow_pickle=True).item() "
   ]
  },
  {
   "cell_type": "code",
   "execution_count": 11,
   "metadata": {},
   "outputs": [
    {
     "data": {
      "text/plain": [
       "166560"
      ]
     },
     "execution_count": 11,
     "metadata": {},
     "output_type": "execute_result"
    }
   ],
   "source": []
  },
  {
   "cell_type": "code",
   "execution_count": 11,
   "metadata": {},
   "outputs": [],
   "source": [
    "\n",
    "\n",
    "# best, worst\n",
    "lt = [-1e9, 1e9]\n",
    "en = [-1e9, 1e9]\n",
    "lat = [-1e9, 1e9]\n",
    "tr = [-1e9, 1e9]"
   ]
  },
  {
   "cell_type": "code",
   "execution_count": 12,
   "metadata": {},
   "outputs": [],
   "source": [
    "path = \"results/network_data/network1network_data.npy\"\n",
    "# path = \"results/result16/9-graph_data.npy\"\n",
    "# path = \"results/result93/3-graph_data.npy\""
   ]
  },
  {
   "cell_type": "code",
   "execution_count": 17,
   "metadata": {},
   "outputs": [
    {
     "name": "stdout",
     "output_type": "stream",
     "text": [
      "{'area_x': 500, 'area_y': 500, 'number_of_nodes': 400, 'base_x': 0, 'base_y': 0, 'node_initial_energy': 1, 'node_critical_energy': 0.4, 'dist_para': 2000, 'len_of_packets': 200, 'transmission_rate': 2000, 'speed_of_transmission': 300000000.0, 'radio_distance': 50}\n",
      "1 45 192.458 6.205 1.94\n",
      "2 79 232.222 8.434 2.638\n",
      "3 83 259.055 10.662 3.335\n",
      "4 88 260.326 11.595 3.627\n",
      "5 101 276.733 13.247 4.145\n",
      "6 101 277.208 14.755 4.617\n",
      "7 101 277.22 14.887 4.66\n",
      "8 113 289.313 15.812 4.95\n",
      "9 122 295.396 16.72 5.235\n",
      "10 123 296.048 17.7 5.543\n",
      "11 125 296.424 17.944 5.62\n",
      "12 125 296.575 18.148 5.685\n",
      "13 127 296.639 18.336 5.745\n",
      "14 127 296.746 18.628 5.838\n",
      "15 127 296.751 18.944 5.938\n",
      "16 127 296.757 19.156 6.005\n",
      "17 127 296.783 19.488 6.11\n",
      "18 127 296.794 19.556 6.133\n",
      "19 127 296.836 19.592 6.145\n",
      "20 127 296.862 19.956 6.26\n",
      "21 127 296.865 20.288 6.365\n",
      "22 127 296.871 20.653 6.48\n",
      "23 127 296.895 20.897 6.558\n",
      "24 127 296.904 21.157 6.64\n",
      "25 127 296.91 21.345 6.7\n",
      "saved!\n",
      "25 284.304 16.964 5.316\n",
      "26 195 83.377 5.189 2.377\n",
      "27 208 91.845 6.633 3.04\n",
      "28 218 100.259 8.382 3.842\n",
      "29 218 100.538 8.914 4.088\n",
      "30 224 104.812 10.014 4.593\n",
      "31 224 105.013 11.05 5.07\n",
      "32 224 105.013 11.15 5.117\n",
      "33 230 108.058 11.69 5.366\n",
      "34 233 109.205 12.223 5.612\n",
      "35 233 109.352 12.851 5.901\n",
      "36 233 109.353 12.959 5.952\n",
      "37 233 109.353 13.067 6.004\n",
      "38 233 109.354 13.135 6.037\n",
      "39 233 109.359 13.179 6.059\n",
      "40 233 109.364 13.495 6.205\n",
      "41 233 109.371 13.707 6.304\n",
      "42 233 109.397 14.039 6.458\n",
      "43 233 109.408 14.067 6.473\n",
      "44 233 109.416 14.079 6.48\n",
      "45 233 109.442 14.435 6.645\n",
      "46 233 109.445 14.767 6.799\n",
      "47 233 109.451 15.131 6.967\n",
      "48 233 109.462 15.247 7.022\n",
      "49 233 109.462 15.291 7.044\n",
      "50 233 109.466 15.415 7.103\n",
      "saved!\n",
      "50 195.323 14.684 5.509\n",
      "51 268 36.994 4.341 3.251\n",
      "52 276 40.133 5.441 4.078\n",
      "53 281 44.058 6.925 5.192\n",
      "54 281 44.181 7.273 5.455\n",
      "55 287 46.264 8.134 6.102\n",
      "56 287 46.395 8.962 6.725\n",
      "57 287 46.395 9.022 6.772\n",
      "58 287 46.781 9.338 7.012\n",
      "59 287 47.258 9.734 7.311\n",
      "60 287 47.355 10.266 7.713\n",
      "61 287 47.355 10.31 7.749\n",
      "62 287 47.356 10.378 7.802\n",
      "63 287 47.356 10.43 7.844\n",
      "64 287 47.356 10.442 7.856\n",
      "65 287 47.36 10.758 8.096\n",
      "66 287 47.367 10.97 8.257\n",
      "67 287 47.393 11.302 8.509\n",
      "68 288 47.404 11.33 8.533\n",
      "69 288 47.404 11.334 8.539\n",
      "70 288 47.431 11.69 8.808\n",
      "71 288 47.434 12.022 9.06\n",
      "72 288 47.438 12.378 9.329\n",
      "73 288 47.443 12.43 9.371\n",
      "74 288 47.443 12.442 9.383\n",
      "75 288 47.444 12.494 9.425\n",
      "saved!\n",
      "75 145.64 13.125 6.182\n",
      "76 303 22.152 3.901 4.357\n",
      "77 305 23.492 4.857 5.429\n",
      "78 307 26.283 6.213 6.946\n",
      "79 307 26.374 6.505 7.277\n",
      "80 307 27.74 7.253 8.116\n",
      "81 308 27.819 7.985 8.938\n",
      "82 308 27.819 8.029 8.991\n",
      "83 309 27.961 8.298 9.295\n",
      "84 309 28.434 8.646 9.688\n",
      "85 309 28.525 9.146 10.25\n",
      "86 309 28.525 9.166 10.277\n",
      "87 309 28.525 9.234 10.357\n",
      "88 309 28.526 9.278 10.411\n",
      "89 309 28.526 9.282 10.42\n",
      "90 309 28.53 9.598 10.777\n",
      "91 309 28.537 9.81 11.018\n",
      "92 309 28.563 10.142 11.393\n",
      "93 309 28.566 10.162 11.42\n",
      "94 309 28.566 10.166 11.429\n",
      "95 309 28.593 10.522 11.83\n",
      "96 309 28.596 10.854 12.205\n",
      "97 309 28.6 11.186 12.58\n",
      "98 309 28.602 11.222 12.625\n",
      "99 309 28.602 11.234 12.643\n",
      "100 309 28.602 11.27 12.688\n",
      "saved!\n",
      "100 116.18 12.083 7.15\n",
      "101 328 17.89 2.244 1.044\n",
      "102 332 18.783 3.105 2.231\n",
      "103 333 20.989 4.381 3.989\n",
      "104 333 21.039 4.593 4.286\n",
      "105 335 22.17 5.269 5.22\n",
      "106 335 22.234 5.873 6.055\n",
      "107 335 22.234 5.909 6.11\n",
      "108 335 22.252 6.137 6.429\n",
      "109 335 22.455 6.421 6.824\n",
      "110 335 22.51 6.833 7.396\n",
      "111 335 22.51 6.853 7.429\n",
      "112 335 22.51 6.897 7.495\n",
      "113 335 22.511 6.917 7.527\n",
      "114 335 22.511 6.921 7.538\n",
      "115 335 22.515 7.237 7.978\n",
      "116 335 22.522 7.449 8.275\n",
      "117 335 22.548 7.773 8.725\n",
      "118 335 22.551 7.793 8.758\n",
      "119 335 22.551 7.797 8.769\n",
      "120 335 22.577 8.129 9.231\n",
      "121 335 22.58 8.462 9.692\n",
      "122 335 22.584 8.778 10.132\n",
      "123 335 22.585 8.798 10.165\n",
      "124 335 22.585 8.802 10.176\n",
      "125 335 22.585 8.806 10.187\n",
      "saved!\n",
      "125 97.35 11.012 7.173\n",
      "126 361 28.195 3.533 6.8\n",
      "127 362 28.537 4.241 8.169\n",
      "128 365 30.493 5.429 10.462\n",
      "129 365 30.506 5.553 10.708\n",
      "130 367 31.373 6.109 11.785\n",
      "131 367 31.414 6.577 12.692\n",
      "132 367 31.414 6.605 12.754\n",
      "133 367 31.425 6.777 13.092\n",
      "134 367 31.472 6.989 13.508\n",
      "135 367 31.499 7.289 14.092\n",
      "136 367 31.499 7.301 14.123\n",
      "137 367 31.499 7.321 14.169\n",
      "138 367 31.499 7.333 14.2\n",
      "139 367 31.499 7.337 14.215\n",
      "140 367 31.504 7.653 14.831\n",
      "141 367 31.51 7.865 15.246\n",
      "142 367 31.536 8.189 15.877\n",
      "143 367 31.538 8.201 15.908\n",
      "144 367 31.538 8.205 15.923\n",
      "145 367 31.564 8.522 16.538\n",
      "146 367 31.567 8.838 17.154\n",
      "147 367 31.571 9.138 17.738\n",
      "148 367 31.571 9.142 17.754\n",
      "149 367 31.571 9.146 17.769\n",
      "150 367 31.571 9.15 17.785\n",
      "saved!\n",
      "150 86.321 10.393 8.333\n"
     ]
    }
   ],
   "source": [
    "from network import network\n",
    "from node import node\n",
    "import numpy as np\n",
    "import random\n",
    "\n",
    "# paths\n",
    "path = \"results/network_data/network1network_data.npy\"\n",
    "save_path = \"./results/performance/res-leach/net1/P-0.03/\"\n",
    "\n",
    "net = network(500, 500, 400, 0, 0)\n",
    "gd = net.load_network(path)\n",
    "net.packet_length = 8\n",
    "for x in net.node_list:\n",
    "\tx.critical_energy = 0\n",
    "\t\n",
    "\t\n",
    "sink = net.sink\n",
    "\n",
    "net.calculate_latency()\n",
    "dm = net.calculate_dist()\n",
    "lm = net.latency_matrix\n",
    "k = net.packet_length\n",
    "er = sink.energy_for_reception(k)\n",
    "dead_node = set()\n",
    "rnds = 0\n",
    "\n",
    "n = net.number_of_nodes\n",
    "energy_per_round = []\n",
    "latency_per_round = []\n",
    "throughput_per_round = []\n",
    "\n",
    "failed_itr_per_node = {}\n",
    "ch_msg = {}\n",
    "ch = {}\n",
    "\n",
    "#\tsetting distance from server in every node:\n",
    "for Node in net.node_list:\n",
    "\tNode.dist(sink)\n",
    "\tNode.setup_for_leach()\n",
    "\tfailed_itr_per_node[Node] = 0\n",
    "\tch_msg[Node] = 0\n",
    "\n",
    "#\tLEACH specific parameters\n",
    "P = 0.03\n",
    "failed_iterations = 0\n",
    "clusters = []\n",
    "cluster_count = 0\n",
    "\n",
    "for Node in net.node_list:\n",
    "\tNode.role = 0\n",
    "\tTn = P/(1 - P*(rnds % int(1/P)))\n",
    "\tresponse = random.uniform(0,1)\n",
    "\tif response < Tn:\n",
    "\t\tNode.role = 1\n",
    "\t\tNode.clusterID = cluster_count\n",
    "\t\tch[cluster_count] = Node\n",
    "\t\tclusters.append([Node])\n",
    "\t\tcluster_count += 1\n",
    "\n",
    "for Node in net.node_list:\n",
    "\tif Node.role == 0:\n",
    "\t\tNode.dist_to_head = 1e9\n",
    "\t\tfor iiii in range(cluster_count):\n",
    "\t\t\thead = ch[iiii]\n",
    "\t\t\td = Node.dist(head)\n",
    "\t\t\tif Node.dist_to_head != min(Node.dist_to_head, d):\n",
    "\t\t\t\tNode.dist_to_head = d\n",
    "\t\t\t\tNode.clusterID = iiii\n",
    "\t\t\t\tclusters[Node.clusterID].append(Node)\n",
    "\t\t\t\t\n",
    "while len(dead_node) < 0.9*n:\n",
    "\tmessage_gen = n - len(dead_node)\n",
    "\tl = 0\n",
    "\te = 0\n",
    "\tch_count = 0\n",
    "\ts_trans = 0\n",
    "\n",
    "\tfor i in range(cluster_count):\n",
    "\t\thead = ch[i]\n",
    "\t\tch_msg[head] = 1\n",
    "\t\tif head in dead_node:\n",
    "\t\t\tcontinue\n",
    "\t\tfor k in range(len(clusters[i])):\n",
    "\t\t\tNode = clusters[i][k]\n",
    "\t\t\tif Node.role == 0:\n",
    "\t\t\t\tif Node in dead_node:\n",
    "\t\t\t\t\tcontinue\n",
    "\t\t\t\tet = Node.energy_for_transmission(k, dm[Node.id][head.id])\n",
    "\t\t\t\tNode.current_energy -= et\n",
    "\t\t\t\thead.current_energy -= er\n",
    "\t\t\t\te += et + er\n",
    "\t\t\t\tl += lm[Node.id][head.id]\n",
    "\t\t\t\tch_msg[head] += 1\n",
    "\n",
    "\t\tet = head.energy_for_transmission(k, dm[head.id][sink.id])\n",
    "\t\twhile head.current_energy > head.critical_energy and ch_msg[head] != 0:\n",
    "\t\t\thead.current_energy -= et\n",
    "\t\t\te += et + er\n",
    "\t\t\tl += lm[head.id][sink.id]\n",
    "\t\t\ts_trans += 1\n",
    "\t\t\tch_msg[head] -= 1\n",
    "\n",
    "\t\tenergy_per_round.append(e)\n",
    "\t\tlatency_per_round.append(l)\n",
    "\t\tthroughput_per_round.append([message_gen, s_trans, round(s_trans/message_gen, 3)])\n",
    "\t\trnds += 1\n",
    "\n",
    "\t\tfor Node in net.node_list:\n",
    "\t\t\tif Node.current_energy < Node.critical_energy or failed_itr_per_node[Node] > 5:\n",
    "\t\t\t\tdead_node.add(Node)\n",
    "\n",
    "\t\tfor Node in dead_node:\n",
    "\t\t\tif Node.role == 1:\n",
    "\t\t\t\tcluster = clusters[Node.clusterID]\n",
    "\t\t\t\t# Node with max energy left becomes cluster head\n",
    "\t\t\t\tmax_energy_left = -1e9\n",
    "\t\t\t\tnode_id = -1\n",
    "\t\t\t\tfor member in cluster:\n",
    "\t\t\t\t\tif member in dead_node:\n",
    "\t\t\t\t\t\tcontinue\n",
    "\t\t\t\t\tif max_energy_left != max(max_energy_left, member.current_energy):\n",
    "\t\t\t\t\t\tmax_energy_left = member.current_energy\n",
    "\t\t\t\t\t\tnode_id = member.id\n",
    "\t\t\t\tif node_id == -1:\n",
    "\t\t\t\t\tcontinue\n",
    "\t\t\t\tch[Node.clusterID] = net.node_map[node_id]\n",
    "\n",
    "\t\tprint(rnds, len(dead_node), round(e, 3), round(l,3), round(s_trans/message_gen, 3))\n",
    "\n",
    "\n",
    "\tavg_en = round(sum(energy_per_round)/rnds,3)\n",
    "\tavg_lat = round(sum(latency_per_round)/rnds,3)\n",
    "\tt_p = [i[2] for i in throughput_per_round]\n",
    "\tavg_throughput = round(sum(t_p)/rnds,3)\n",
    "\tnet.save_network_performance(save_path, str(0), rnds, energy_per_round, throughput_per_round, latency_per_round)\n",
    "\tprint(rnds, avg_en, avg_lat, avg_throughput)"
   ]
  },
  {
   "cell_type": "code",
   "execution_count": 110,
   "metadata": {},
   "outputs": [
    {
     "name": "stdout",
     "output_type": "stream",
     "text": [
      "378\n"
     ]
    }
   ],
   "source": [
    "print(len(dead_node))"
   ]
  },
  {
   "cell_type": "code",
   "execution_count": 1,
   "metadata": {},
   "outputs": [],
   "source": [
    "import matplotlib.pyplot as plt\n",
    "import numpy as np\n",
    "import pandas as pd"
   ]
  },
  {
   "cell_type": "code",
   "execution_count": 20,
   "metadata": {},
   "outputs": [
    {
     "data": {
      "image/png": "[encoded data removed]",
      "text/plain": [
       "<Figure size 640x480 with 1 Axes>"
      ]
     },
     "metadata": {},
     "output_type": "display_data"
    }
   ],
   "source": [
    "stp = 0.01\n",
    "\n",
    "\n",
    "while stp <= 0.03:\n",
    "\tfile = \"results/performance/res-leach/net1/P-\" + str(stp) + \"/0-performance.npy\"\n",
    "\tbdt = np.load(file, allow_pickle=True).item()\n",
    "\tplt.plot(bdt['throughput'], label = str(stp))\n",
    "\tstp += 0.01\n",
    "plt.legend()\n",
    "plt.show()"
   ]
  },
  {
   "cell_type": "code",
   "execution_count": null,
   "metadata": {},
   "outputs": [],
   "source": []
  }
 ],
 "metadata": {
  "kernelspec": {
   "display_name": "wsn",
   "language": "python",
   "name": "python3"
  },
  "language_info": {
   "codemirror_mode": {
    "name": "ipython",
    "version": 3
   },
   "file_extension": ".py",
   "mimetype": "text/x-python",
   "name": "python",
   "nbconvert_exporter": "python",
   "pygments_lexer": "ipython3",
   "version": "3.10.10"
  },
  "orig_nbformat": 4
 },
 "nbformat": 4,
 "nbformat_minor": 2
}
